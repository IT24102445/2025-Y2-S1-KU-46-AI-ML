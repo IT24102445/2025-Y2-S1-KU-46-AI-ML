{
  "nbformat": 4,
  "nbformat_minor": 0,
  "metadata": {
    "colab": {
      "provenance": []
    },
    "kernelspec": {
      "name": "python3",
      "display_name": "Python 3"
    },
    "language_info": {
      "name": "python"
    }
  },
  "cells": [
    {
      "cell_type": "code",
      "execution_count": 1,
      "metadata": {
        "colab": {
          "base_uri": "https://localhost:8080/"
        },
        "id": "x-9UVPld7HJE",
        "outputId": "8650ff98-24e2-4f86-f6fd-bb5efdfdda6f"
      },
      "outputs": [
        {
          "output_type": "stream",
          "name": "stdout",
          "text": [
            "Requirement already satisfied: seaborn in /usr/local/lib/python3.12/dist-packages (0.13.2)\n",
            "Requirement already satisfied: matplotlib in /usr/local/lib/python3.12/dist-packages (3.10.0)\n",
            "Requirement already satisfied: numpy!=1.24.0,>=1.20 in /usr/local/lib/python3.12/dist-packages (from seaborn) (2.0.2)\n",
            "Requirement already satisfied: pandas>=1.2 in /usr/local/lib/python3.12/dist-packages (from seaborn) (2.2.2)\n",
            "Requirement already satisfied: contourpy>=1.0.1 in /usr/local/lib/python3.12/dist-packages (from matplotlib) (1.3.3)\n",
            "Requirement already satisfied: cycler>=0.10 in /usr/local/lib/python3.12/dist-packages (from matplotlib) (0.12.1)\n",
            "Requirement already satisfied: fonttools>=4.22.0 in /usr/local/lib/python3.12/dist-packages (from matplotlib) (4.59.2)\n",
            "Requirement already satisfied: kiwisolver>=1.3.1 in /usr/local/lib/python3.12/dist-packages (from matplotlib) (1.4.9)\n",
            "Requirement already satisfied: packaging>=20.0 in /usr/local/lib/python3.12/dist-packages (from matplotlib) (25.0)\n",
            "Requirement already satisfied: pillow>=8 in /usr/local/lib/python3.12/dist-packages (from matplotlib) (11.3.0)\n",
            "Requirement already satisfied: pyparsing>=2.3.1 in /usr/local/lib/python3.12/dist-packages (from matplotlib) (3.2.3)\n",
            "Requirement already satisfied: python-dateutil>=2.7 in /usr/local/lib/python3.12/dist-packages (from matplotlib) (2.9.0.post0)\n",
            "Requirement already satisfied: pytz>=2020.1 in /usr/local/lib/python3.12/dist-packages (from pandas>=1.2->seaborn) (2025.2)\n",
            "Requirement already satisfied: tzdata>=2022.7 in /usr/local/lib/python3.12/dist-packages (from pandas>=1.2->seaborn) (2025.2)\n",
            "Requirement already satisfied: six>=1.5 in /usr/local/lib/python3.12/dist-packages (from python-dateutil>=2.7->matplotlib) (1.17.0)\n"
          ]
        }
      ],
      "source": [
        "# Step 0: Install and Import Libraries\n",
        "# No additional installs needed for basics, but for visualization:\n",
        "!pip install seaborn matplotlib\n",
        "\n",
        "import pandas as pd\n",
        "import numpy as np\n",
        "import matplotlib.pyplot as plt\n",
        "import seaborn as sns\n",
        "from sklearn.preprocessing import StandardScaler, LabelEncoder, OneHotEncoder\n",
        "from sklearn.compose import ColumnTransformer\n",
        "from sklearn.pipeline import Pipeline\n",
        "from sklearn.model_selection import train_test_split\n",
        "from sklearn.feature_selection import SelectKBest, f_classif\n",
        "from sklearn.decomposition import PCA\n",
        "from sklearn.impute import SimpleImputer\n",
        "import warnings\n",
        "warnings.filterwarnings('ignore')"
      ]
    },
    {
      "cell_type": "code",
      "source": [
        "# Step 1: Load the Dataset\n",
        "from google.colab import drive\n",
        "drive.mount('/content/drive')"
      ],
      "metadata": {
        "colab": {
          "base_uri": "https://localhost:8080/"
        },
        "id": "Dcyv3iNh7ZFG",
        "outputId": "56e7e1cb-695f-439d-8798-3dc2e3c854c4"
      },
      "execution_count": 2,
      "outputs": [
        {
          "output_type": "stream",
          "name": "stdout",
          "text": [
            "Mounted at /content/drive\n"
          ]
        }
      ]
    },
    {
      "cell_type": "code",
      "source": [
        "df = pd.read_csv('/content/drive/MyDrive/healthcare-dataset-stroke-data.csv')"
      ],
      "metadata": {
        "id": "swnaCiup7kMf"
      },
      "execution_count": 3,
      "outputs": []
    },
    {
      "cell_type": "code",
      "source": [
        "# Step 3: Encoding Categorical Variables\n",
        "categorical_cols = ['gender', 'ever_married', 'work_type', 'Residence_type', 'smoking_status']\n",
        "print(\"Categorical columns:\", categorical_cols)\n",
        "\n",
        "# Handle 'Other' in gender if present (rare, but encode)\n",
        "# OneHotEncoder\n",
        "preprocessor = ColumnTransformer(\n",
        "    transformers=[\n",
        "        ('cat', OneHotEncoder(drop='first', handle_unknown='ignore'), categorical_cols)\n",
        "    ],\n",
        "    remainder='passthrough'  # Keep numerical columns as is\n",
        ")\n",
        "\n",
        "# Apply encoding (we'll fit on full data for simplicity; in practice, fit on train)\n",
        "encoded_data = preprocessor.fit_transform(df)\n",
        "encoded_cols = preprocessor.get_feature_names_out()\n",
        "\n",
        "df_encoded = pd.DataFrame(encoded_data, columns=encoded_cols)\n",
        "print(\"\\nEncoded dataset shape:\", df_encoded.shape)\n",
        "print(\"\\nFirst few rows of encoded data:\")\n",
        "print(df_encoded.head())\n",
        "\n",
        "# Note: 'id' and 'stroke' are passthrough. Drop 'id' later as it's not a feature.\n",
        "df_processed = df_encoded.drop(columns=['remainder__id'])  # Remove id\n",
        "print(\"\\nProcessed shape after dropping id:\", df_processed.shape)"
      ],
      "metadata": {
        "colab": {
          "base_uri": "https://localhost:8080/"
        },
        "id": "hE122dlF7nnY",
        "outputId": "38905399-f540-4d76-bb25-a8846cc2e1cb"
      },
      "execution_count": 4,
      "outputs": [
        {
          "output_type": "stream",
          "name": "stdout",
          "text": [
            "Categorical columns: ['gender', 'ever_married', 'work_type', 'Residence_type', 'smoking_status']\n",
            "\n",
            "Encoded dataset shape: (5110, 18)\n",
            "\n",
            "First few rows of encoded data:\n",
            "   cat__gender_Male  cat__gender_Other  cat__ever_married_Yes  \\\n",
            "0               1.0                0.0                    1.0   \n",
            "1               0.0                0.0                    1.0   \n",
            "2               1.0                0.0                    1.0   \n",
            "3               0.0                0.0                    1.0   \n",
            "4               0.0                0.0                    1.0   \n",
            "\n",
            "   cat__work_type_Never_worked  cat__work_type_Private  \\\n",
            "0                          0.0                     1.0   \n",
            "1                          0.0                     0.0   \n",
            "2                          0.0                     1.0   \n",
            "3                          0.0                     1.0   \n",
            "4                          0.0                     0.0   \n",
            "\n",
            "   cat__work_type_Self-employed  cat__work_type_children  \\\n",
            "0                           0.0                      0.0   \n",
            "1                           1.0                      0.0   \n",
            "2                           0.0                      0.0   \n",
            "3                           0.0                      0.0   \n",
            "4                           1.0                      0.0   \n",
            "\n",
            "   cat__Residence_type_Urban  cat__smoking_status_formerly smoked  \\\n",
            "0                        1.0                                  1.0   \n",
            "1                        0.0                                  0.0   \n",
            "2                        0.0                                  0.0   \n",
            "3                        1.0                                  0.0   \n",
            "4                        0.0                                  0.0   \n",
            "\n",
            "   cat__smoking_status_never smoked  cat__smoking_status_smokes  \\\n",
            "0                               0.0                         0.0   \n",
            "1                               1.0                         0.0   \n",
            "2                               1.0                         0.0   \n",
            "3                               0.0                         1.0   \n",
            "4                               1.0                         0.0   \n",
            "\n",
            "   remainder__id  remainder__age  remainder__hypertension  \\\n",
            "0         9046.0            67.0                      0.0   \n",
            "1        51676.0            61.0                      0.0   \n",
            "2        31112.0            80.0                      0.0   \n",
            "3        60182.0            49.0                      0.0   \n",
            "4         1665.0            79.0                      1.0   \n",
            "\n",
            "   remainder__heart_disease  remainder__avg_glucose_level  remainder__bmi  \\\n",
            "0                       1.0                        228.69            36.6   \n",
            "1                       0.0                        202.21             NaN   \n",
            "2                       1.0                        105.92            32.5   \n",
            "3                       0.0                        171.23            34.4   \n",
            "4                       0.0                        174.12            24.0   \n",
            "\n",
            "   remainder__stroke  \n",
            "0                1.0  \n",
            "1                1.0  \n",
            "2                1.0  \n",
            "3                1.0  \n",
            "4                1.0  \n",
            "\n",
            "Processed shape after dropping id: (5110, 17)\n"
          ]
        }
      ]
    }
  ]
}