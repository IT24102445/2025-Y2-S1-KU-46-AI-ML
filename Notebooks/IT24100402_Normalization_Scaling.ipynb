{
  "nbformat": 4,
  "nbformat_minor": 0,
  "metadata": {
    "colab": {
      "provenance": []
    },
    "kernelspec": {
      "name": "python3",
      "display_name": "Python 3"
    },
    "language_info": {
      "name": "python"
    }
  },
  "cells": [
    {
      "cell_type": "code",
      "execution_count": 1,
      "metadata": {
        "colab": {
          "base_uri": "https://localhost:8080/"
        },
        "id": "nd0xqbN84pw9",
        "outputId": "f1f9b88b-acbb-4301-8da9-8867b1a183e3"
      },
      "outputs": [
        {
          "output_type": "stream",
          "name": "stdout",
          "text": [
            "Requirement already satisfied: seaborn in /usr/local/lib/python3.12/dist-packages (0.13.2)\n",
            "Requirement already satisfied: matplotlib in /usr/local/lib/python3.12/dist-packages (3.10.0)\n",
            "Requirement already satisfied: numpy!=1.24.0,>=1.20 in /usr/local/lib/python3.12/dist-packages (from seaborn) (2.0.2)\n",
            "Requirement already satisfied: pandas>=1.2 in /usr/local/lib/python3.12/dist-packages (from seaborn) (2.2.2)\n",
            "Requirement already satisfied: contourpy>=1.0.1 in /usr/local/lib/python3.12/dist-packages (from matplotlib) (1.3.3)\n",
            "Requirement already satisfied: cycler>=0.10 in /usr/local/lib/python3.12/dist-packages (from matplotlib) (0.12.1)\n",
            "Requirement already satisfied: fonttools>=4.22.0 in /usr/local/lib/python3.12/dist-packages (from matplotlib) (4.59.2)\n",
            "Requirement already satisfied: kiwisolver>=1.3.1 in /usr/local/lib/python3.12/dist-packages (from matplotlib) (1.4.9)\n",
            "Requirement already satisfied: packaging>=20.0 in /usr/local/lib/python3.12/dist-packages (from matplotlib) (25.0)\n",
            "Requirement already satisfied: pillow>=8 in /usr/local/lib/python3.12/dist-packages (from matplotlib) (11.3.0)\n",
            "Requirement already satisfied: pyparsing>=2.3.1 in /usr/local/lib/python3.12/dist-packages (from matplotlib) (3.2.3)\n",
            "Requirement already satisfied: python-dateutil>=2.7 in /usr/local/lib/python3.12/dist-packages (from matplotlib) (2.9.0.post0)\n",
            "Requirement already satisfied: pytz>=2020.1 in /usr/local/lib/python3.12/dist-packages (from pandas>=1.2->seaborn) (2025.2)\n",
            "Requirement already satisfied: tzdata>=2022.7 in /usr/local/lib/python3.12/dist-packages (from pandas>=1.2->seaborn) (2025.2)\n",
            "Requirement already satisfied: six>=1.5 in /usr/local/lib/python3.12/dist-packages (from python-dateutil>=2.7->matplotlib) (1.17.0)\n"
          ]
        }
      ],
      "source": [
        "# Step 0: Install and Import Libraries\n",
        "# No additional installs needed for basics, but for visualization:\n",
        "!pip install seaborn matplotlib\n",
        "\n",
        "import pandas as pd\n",
        "import numpy as np\n",
        "import matplotlib.pyplot as plt\n",
        "import seaborn as sns\n",
        "from sklearn.preprocessing import StandardScaler, LabelEncoder, OneHotEncoder\n",
        "from sklearn.compose import ColumnTransformer\n",
        "from sklearn.pipeline import Pipeline\n",
        "from sklearn.model_selection import train_test_split\n",
        "from sklearn.feature_selection import SelectKBest, f_classif\n",
        "from sklearn.decomposition import PCA\n",
        "from sklearn.impute import SimpleImputer\n",
        "import warnings\n",
        "warnings.filterwarnings('ignore')"
      ]
    },
    {
      "cell_type": "code",
      "source": [
        "# Step 1: Load the Dataset\n",
        "from google.colab import drive\n",
        "drive.mount('/content/drive')"
      ],
      "metadata": {
        "colab": {
          "base_uri": "https://localhost:8080/"
        },
        "id": "XKIlRx6b4-Mr",
        "outputId": "df2ad136-b96b-449c-af07-4f1436250837"
      },
      "execution_count": 2,
      "outputs": [
        {
          "output_type": "stream",
          "name": "stdout",
          "text": [
            "Mounted at /content/drive\n"
          ]
        }
      ]
    },
    {
      "cell_type": "code",
      "source": [
        "df = pd.read_csv('/content/drive/MyDrive/healthcare-dataset-stroke-data.csv')"
      ],
      "metadata": {
        "id": "nI2xLUzc5Jef"
      },
      "execution_count": 3,
      "outputs": []
    },
    {
      "cell_type": "code",
      "source": [
        "# Step 5: Normalization / Scaling\n",
        "# Import necessary libraries\n",
        "import pandas as pd\n",
        "import numpy as np\n",
        "from sklearn.preprocessing import StandardScaler\n",
        "from sklearn.compose import ColumnTransformer\n",
        "\n",
        "# First, let's identify numerical features if they haven't been defined\n",
        "# Assuming you have a DataFrame called 'df' with your data\n",
        "\n",
        "# If numerical_features is not defined, let's identify numerical columns\n",
        "try:\n",
        "    # Try to use existing numerical_features if available\n",
        "    numerical_features_scaled = numerical_features\n",
        "except NameError:\n",
        "    # If not defined, identify numerical columns from the dataset\n",
        "    print(\"numerical_features not found. Identifying numerical columns...\")\n",
        "\n",
        "    # Assuming you have df_no_outliers from previous steps\n",
        "    # If not, we need to work with the original df or create it\n",
        "\n",
        "    try:\n",
        "        # Try to use df_no_outliers if available\n",
        "        df_to_use = df_no_outliers\n",
        "    except NameError:\n",
        "        # If df_no_outliers not available, use original df\n",
        "        print(\"df_no_outliers not found. Using original DataFrame.\")\n",
        "        df_to_use = df.copy()\n",
        "\n",
        "    # Identify numerical columns (excluding target if it exists)\n",
        "    numerical_cols = df_to_use.select_dtypes(include=['int64', 'float64']).columns\n",
        "\n",
        "    # Remove target column if it's numerical and exists\n",
        "    target_cols = [col for col in numerical_cols if 'stroke' in col.lower()]\n",
        "    if target_cols:\n",
        "        numerical_cols = numerical_cols.drop(target_cols)\n",
        "\n",
        "    numerical_features_scaled = numerical_cols.tolist()\n",
        "    print(f\"Identified numerical features: {numerical_features_scaled}\")\n",
        "\n",
        "print(f\"\\nNumerical features to scale: {numerical_features_scaled}\")\n",
        "\n",
        "# ColumnTransformer for scaling only numerical\n",
        "scaler = ColumnTransformer(\n",
        "    transformers=[\n",
        "        ('num', StandardScaler(), numerical_features_scaled)\n",
        "    ],\n",
        "    remainder='passthrough'  # Keep categorical encoded and target\n",
        ")\n",
        "\n",
        "# Apply scaling (using df_no_outliers if available, otherwise use appropriate DataFrame)\n",
        "try:\n",
        "    scaled_data = scaler.fit_transform(df_no_outliers)\n",
        "except NameError:\n",
        "    print(\"df_no_outliers not found. Scaling original DataFrame.\")\n",
        "    scaled_data = scaler.fit_transform(df)\n",
        "\n",
        "# Get feature names after scaling\n",
        "scaled_cols = scaler.get_feature_names_out()\n",
        "\n",
        "# Clean up column names (remove transformer prefixes)\n",
        "cleaned_cols = []\n",
        "for col in scaled_cols:\n",
        "    if col.startswith('num__'):\n",
        "        cleaned_cols.append(col.replace('num__', ''))\n",
        "    elif col.startswith('remainder__'):\n",
        "        cleaned_cols.append(col.replace('remainder__', ''))\n",
        "    else:\n",
        "        cleaned_cols.append(col)\n",
        "\n",
        "df_scaled = pd.DataFrame(scaled_data, columns=cleaned_cols)\n",
        "\n",
        "print(\"\\nScaled dataset shape:\", df_scaled.shape)\n",
        "print(\"\\nFirst few rows of scaled data:\")\n",
        "print(df_scaled.head())\n",
        "print(\"\\nScaled dataset info:\")\n",
        "print(df_scaled.info())\n",
        "\n",
        "# Show summary statistics of scaled numerical features\n",
        "print(\"\\nSummary statistics of scaled numerical features:\")\n",
        "for feature in numerical_features_scaled:\n",
        "    if feature in df_scaled.columns:\n",
        "        print(f\"\\n{feature}:\")\n",
        "        print(f\"  Mean: {df_scaled[feature].mean():.4f}\")\n",
        "        print(f\"  Std: {df_scaled[feature].std():.4f}\")\n",
        "        print(f\"  Min: {df_scaled[feature].min():.4f}\")\n",
        "        print(f\"  Max: {df_scaled[feature].max():.4f}\")"
      ],
      "metadata": {
        "colab": {
          "base_uri": "https://localhost:8080/"
        },
        "id": "07Q5SI-05vUo",
        "outputId": "6969a434-e4f6-4950-dc85-a36cd63f6d24"
      },
      "execution_count": 5,
      "outputs": [
        {
          "output_type": "stream",
          "name": "stdout",
          "text": [
            "numerical_features not found. Identifying numerical columns...\n",
            "df_no_outliers not found. Using original DataFrame.\n",
            "Identified numerical features: ['id', 'age', 'hypertension', 'heart_disease', 'avg_glucose_level', 'bmi']\n",
            "\n",
            "Numerical features to scale: ['id', 'age', 'hypertension', 'heart_disease', 'avg_glucose_level', 'bmi']\n",
            "df_no_outliers not found. Scaling original DataFrame.\n",
            "\n",
            "Scaled dataset shape: (5110, 12)\n",
            "\n",
            "First few rows of scaled data:\n",
            "         id       age hypertension heart_disease avg_glucose_level       bmi  \\\n",
            "0 -1.298312  1.051434    -0.328602      4.185032          2.706375  0.981345   \n",
            "1  0.716371   0.78607    -0.328602     -0.238947          2.121559       NaN   \n",
            "2 -0.255478   1.62639    -0.328602      4.185032         -0.005028  0.459269   \n",
            "3  1.118363  0.255342    -0.328602     -0.238947          1.437358  0.701207   \n",
            "4 -1.647136  1.582163     3.043196     -0.238947          1.501184 -0.623083   \n",
            "\n",
            "   gender ever_married      work_type Residence_type   smoking_status stroke  \n",
            "0    Male          Yes        Private          Urban  formerly smoked      1  \n",
            "1  Female          Yes  Self-employed          Rural     never smoked      1  \n",
            "2    Male          Yes        Private          Rural     never smoked      1  \n",
            "3  Female          Yes        Private          Urban           smokes      1  \n",
            "4  Female          Yes  Self-employed          Rural     never smoked      1  \n",
            "\n",
            "Scaled dataset info:\n",
            "<class 'pandas.core.frame.DataFrame'>\n",
            "RangeIndex: 5110 entries, 0 to 5109\n",
            "Data columns (total 12 columns):\n",
            " #   Column             Non-Null Count  Dtype \n",
            "---  ------             --------------  ----- \n",
            " 0   id                 5110 non-null   object\n",
            " 1   age                5110 non-null   object\n",
            " 2   hypertension       5110 non-null   object\n",
            " 3   heart_disease      5110 non-null   object\n",
            " 4   avg_glucose_level  5110 non-null   object\n",
            " 5   bmi                4909 non-null   object\n",
            " 6   gender             5110 non-null   object\n",
            " 7   ever_married       5110 non-null   object\n",
            " 8   work_type          5110 non-null   object\n",
            " 9   Residence_type     5110 non-null   object\n",
            " 10  smoking_status     5110 non-null   object\n",
            " 11  stroke             5110 non-null   object\n",
            "dtypes: object(12)\n",
            "memory usage: 479.2+ KB\n",
            "None\n",
            "\n",
            "Summary statistics of scaled numerical features:\n",
            "\n",
            "id:\n",
            "  Mean: -0.0000\n",
            "  Std: 1.0001\n",
            "  Min: -1.7227\n",
            "  Max: 1.7213\n",
            "\n",
            "age:\n",
            "  Mean: -0.0000\n",
            "  Std: 1.0001\n",
            "  Min: -1.9083\n",
            "  Max: 1.7148\n",
            "\n",
            "hypertension:\n",
            "  Mean: -0.0000\n",
            "  Std: 1.0001\n",
            "  Min: -0.3286\n",
            "  Max: 3.0432\n",
            "\n",
            "heart_disease:\n",
            "  Mean: -0.0000\n",
            "  Std: 1.0001\n",
            "  Min: -0.2389\n",
            "  Max: 4.1850\n",
            "\n",
            "avg_glucose_level:\n",
            "  Mean: 0.0000\n",
            "  Std: 1.0001\n",
            "  Min: -1.1270\n",
            "  Max: 3.6571\n",
            "\n",
            "bmi:\n",
            "  Mean: -0.0000\n",
            "  Std: 1.0001\n",
            "  Min: -2.3676\n",
            "  Max: 8.7488\n"
          ]
        }
      ]
    }
  ]
}